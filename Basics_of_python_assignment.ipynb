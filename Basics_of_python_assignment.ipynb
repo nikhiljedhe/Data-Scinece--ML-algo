{
  "nbformat": 4,
  "nbformat_minor": 0,
  "metadata": {
    "colab": {
      "provenance": []
    },
    "kernelspec": {
      "name": "python3",
      "display_name": "Python 3"
    },
    "language_info": {
      "name": "python"
    }
  },
  "cells": [
    {
      "cell_type": "markdown",
      "source": [
        "write a python program to check whwther a given number is prime or not"
      ],
      "metadata": {
        "id": "txn3SDxgj23n"
      }
    },
    {
      "cell_type": "code",
      "execution_count": 2,
      "metadata": {
        "colab": {
          "base_uri": "https://localhost:8080/"
        },
        "id": "gPVExY-njpKr",
        "outputId": "d5309098-57a1-46c9-b5d0-1654e999ea3f"
      },
      "outputs": [
        {
          "output_type": "stream",
          "name": "stdout",
          "text": [
            "enter a number:679676447\n",
            "679676447 is not a prime number\n"
          ]
        }
      ],
      "source": [
        "num=int(input(\"enter a number:\"))\n",
        "if num>1:\n",
        "  for i in range(2,num):\n",
        "    if num % i==0:\n",
        "      print(num,\"is not a prime number\")\n",
        "      break\n",
        "  else:\n",
        "    print(num,\"is a prime number\")\n",
        "else:\n",
        "  print(num,\"is not a prime number\")"
      ]
    },
    {
      "cell_type": "markdown",
      "source": [
        "Develop a python program that generates two random numbers and asks user to enter the product of these numbers. the program should then check if the user's answer is correctand display an appropriate message"
      ],
      "metadata": {
        "id": "rcMJ5G2ElHC3"
      }
    },
    {
      "cell_type": "code",
      "source": [
        "import random\n",
        "\n",
        "num1 = random.randint(1, 10)\n",
        "num2 = random.randint(1, 10)\n",
        "\n",
        "\n",
        "print(f\"What is {num1} x {num2}?\")\n",
        "user_answer = int(input(\"Your answer: \"))\n",
        "\n",
        "correct_answer = num1 * num2\n",
        "\n",
        "if user_answer == correct_answer:\n",
        "    print(\"Correct! Well done.\")\n",
        "else:\n",
        "    print(f\"Incorrect. The correct answer is {correct_answer}.\")"
      ],
      "metadata": {
        "colab": {
          "base_uri": "https://localhost:8080/"
        },
        "id": "iJ-hQz1Akif7",
        "outputId": "3c850387-ce5c-4696-8a58-c73b8bb6e70b"
      },
      "execution_count": 4,
      "outputs": [
        {
          "output_type": "stream",
          "name": "stdout",
          "text": [
            "What is 5 x 6?\n",
            "Your answer: 30\n",
            "Correct! Well done.\n"
          ]
        }
      ]
    },
    {
      "cell_type": "markdown",
      "source": [
        "Create a Python script that prints the squares of all even or odd numbers within the range of 100 to 200. Choose either even or odd numbers and document your choice in the code."
      ],
      "metadata": {
        "id": "yMMubMjOmUXK"
      }
    },
    {
      "cell_type": "code",
      "source": [
        "#for even numbers\n",
        "for number in range(100,201):\n",
        "  if number % 2==0:\n",
        "    print(f\"the square of {number} is {number**2}\")"
      ],
      "metadata": {
        "colab": {
          "base_uri": "https://localhost:8080/"
        },
        "id": "_AAXFuI-lrR9",
        "outputId": "e38d4063-4b86-42ab-e839-ebb88eff5d8f"
      },
      "execution_count": 6,
      "outputs": [
        {
          "output_type": "stream",
          "name": "stdout",
          "text": [
            "the square of 100 is 10000\n",
            "the square of 102 is 10404\n",
            "the square of 104 is 10816\n",
            "the square of 106 is 11236\n",
            "the square of 108 is 11664\n",
            "the square of 110 is 12100\n",
            "the square of 112 is 12544\n",
            "the square of 114 is 12996\n",
            "the square of 116 is 13456\n",
            "the square of 118 is 13924\n",
            "the square of 120 is 14400\n",
            "the square of 122 is 14884\n",
            "the square of 124 is 15376\n",
            "the square of 126 is 15876\n",
            "the square of 128 is 16384\n",
            "the square of 130 is 16900\n",
            "the square of 132 is 17424\n",
            "the square of 134 is 17956\n",
            "the square of 136 is 18496\n",
            "the square of 138 is 19044\n",
            "the square of 140 is 19600\n",
            "the square of 142 is 20164\n",
            "the square of 144 is 20736\n",
            "the square of 146 is 21316\n",
            "the square of 148 is 21904\n",
            "the square of 150 is 22500\n",
            "the square of 152 is 23104\n",
            "the square of 154 is 23716\n",
            "the square of 156 is 24336\n",
            "the square of 158 is 24964\n",
            "the square of 160 is 25600\n",
            "the square of 162 is 26244\n",
            "the square of 164 is 26896\n",
            "the square of 166 is 27556\n",
            "the square of 168 is 28224\n",
            "the square of 170 is 28900\n",
            "the square of 172 is 29584\n",
            "the square of 174 is 30276\n",
            "the square of 176 is 30976\n",
            "the square of 178 is 31684\n",
            "the square of 180 is 32400\n",
            "the square of 182 is 33124\n",
            "the square of 184 is 33856\n",
            "the square of 186 is 34596\n",
            "the square of 188 is 35344\n",
            "the square of 190 is 36100\n",
            "the square of 192 is 36864\n",
            "the square of 194 is 37636\n",
            "the square of 196 is 38416\n",
            "the square of 198 is 39204\n",
            "the square of 200 is 40000\n"
          ]
        }
      ]
    },
    {
      "cell_type": "code",
      "source": [
        "for number in range(100,201):\n",
        "  if number % 2!= 0:\n",
        "    square=number*number\n",
        "    print(f\" {number}^2={square}\")"
      ],
      "metadata": {
        "colab": {
          "base_uri": "https://localhost:8080/"
        },
        "id": "5tT8a2Nbme3R",
        "outputId": "d419f068-265c-44e8-98ec-c8e9ef148413"
      },
      "execution_count": 10,
      "outputs": [
        {
          "output_type": "stream",
          "name": "stdout",
          "text": [
            " 101^2=10201\n",
            " 103^2=10609\n",
            " 105^2=11025\n",
            " 107^2=11449\n",
            " 109^2=11881\n",
            " 111^2=12321\n",
            " 113^2=12769\n",
            " 115^2=13225\n",
            " 117^2=13689\n",
            " 119^2=14161\n",
            " 121^2=14641\n",
            " 123^2=15129\n",
            " 125^2=15625\n",
            " 127^2=16129\n",
            " 129^2=16641\n",
            " 131^2=17161\n",
            " 133^2=17689\n",
            " 135^2=18225\n",
            " 137^2=18769\n",
            " 139^2=19321\n",
            " 141^2=19881\n",
            " 143^2=20449\n",
            " 145^2=21025\n",
            " 147^2=21609\n",
            " 149^2=22201\n",
            " 151^2=22801\n",
            " 153^2=23409\n",
            " 155^2=24025\n",
            " 157^2=24649\n",
            " 159^2=25281\n",
            " 161^2=25921\n",
            " 163^2=26569\n",
            " 165^2=27225\n",
            " 167^2=27889\n",
            " 169^2=28561\n",
            " 171^2=29241\n",
            " 173^2=29929\n",
            " 175^2=30625\n",
            " 177^2=31329\n",
            " 179^2=32041\n",
            " 181^2=32761\n",
            " 183^2=33489\n",
            " 185^2=34225\n",
            " 187^2=34969\n",
            " 189^2=35721\n",
            " 191^2=36481\n",
            " 193^2=37249\n",
            " 195^2=38025\n",
            " 197^2=38809\n",
            " 199^2=39601\n"
          ]
        }
      ]
    },
    {
      "cell_type": "markdown",
      "source": [
        "write a program to count the number of words in a given text."
      ],
      "metadata": {
        "id": "ZwD3kB48nbsF"
      }
    },
    {
      "cell_type": "code",
      "source": [
        "text=input(\"enter a text:\")\n",
        "words=text.split()\n",
        "word_count=len(words)\n",
        "print(f\"the number of words in the text is {word_count}\")"
      ],
      "metadata": {
        "colab": {
          "base_uri": "https://localhost:8080/"
        },
        "id": "_MBWswDrm756",
        "outputId": "cdbf1c3b-a416-499e-ac8d-a62a674217db"
      },
      "execution_count": 11,
      "outputs": [
        {
          "output_type": "stream",
          "name": "stdout",
          "text": [
            "enter a text:this is my kingdom come\n",
            "the number of words in the text is 5\n"
          ]
        }
      ]
    },
    {
      "cell_type": "code",
      "source": [
        "from collections import Counter\n",
        "\n",
        "\n",
        "input_text=input(\"enter a text:\")\n",
        "\n",
        "words=input_text.split()\n",
        "word_count=Counter(words)\n",
        "\n",
        "\n",
        "for word,count in word_count.items():\n",
        "   print(f\"{word}:{count}\")"
      ],
      "metadata": {
        "colab": {
          "base_uri": "https://localhost:8080/"
        },
        "id": "JUCPbjSLnor8",
        "outputId": "1a21323d-9930-4c52-c440-50b9b2cf6d5c"
      },
      "execution_count": 15,
      "outputs": [
        {
          "output_type": "stream",
          "name": "stdout",
          "text": [
            "enter a text:this is my kingdom come, this is my kingdom come\n",
            "this:2\n",
            "is:2\n",
            "my:2\n",
            "kingdom:2\n",
            "come,:1\n",
            "come:1\n"
          ]
        }
      ]
    },
    {
      "cell_type": "markdown",
      "source": [
        "Write a Python function called is_palindrome that takes a string as input and returns True if the string is a palindrome, and False otherwise. A palindrome is a word, phrase, number, or other sequence of characters that reads the same forward and backward, ignoring spaces, punctuation, and capitalization."
      ],
      "metadata": {
        "id": "jTrOtzdfpkfC"
      }
    },
    {
      "cell_type": "code",
      "source": [
        "def is_palindrome(text):\n",
        "\n",
        "  cleaned_text=text.replace(\" \",\"\").lower()\n",
        "  return cleaned_text == cleaned_text[::-1]\n",
        "text=input(\"enter a text:\")\n",
        "if is_palindrome(text):\n",
        "  print(\"True\")\n",
        "else:\n",
        "  print(\"False\")"
      ],
      "metadata": {
        "colab": {
          "base_uri": "https://localhost:8080/"
        },
        "id": "k_JHADzWprlI",
        "outputId": "5f7be809-f591-4b3d-a831-2c6367f964a4"
      },
      "execution_count": 21,
      "outputs": [
        {
          "output_type": "stream",
          "name": "stdout",
          "text": [
            "enter a text:madam\n",
            "True\n"
          ]
        }
      ]
    },
    {
      "cell_type": "code",
      "source": [],
      "metadata": {
        "id": "2NTtsKzQrGc4"
      },
      "execution_count": null,
      "outputs": []
    }
  ]
}